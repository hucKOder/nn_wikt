{
 "cells": [
  {
   "cell_type": "markdown",
   "metadata": {},
   "source": [
    "# TRAINING CLASSIFIERS\n",
    "Pouzijeme preprocessing na datach z nasho feature engeneering. Takisto vyskusam SFFS pri KNN klasifikatore"
   ]
  },
  {
   "cell_type": "code",
   "execution_count": 1,
   "metadata": {},
   "outputs": [],
   "source": [
    "%matplotlib inline\n",
    "import pandas as pd\n",
    "import numpy as np\n",
    "import matplotlib.pyplot as plt\n",
    "import scipy.stats as stats\n",
    "import seaborn as sns\n",
    "from scipy.stats import boxcox\n",
    "from sklearn.metrics import accuracy_score\n",
    "\n",
    "plt.rcParams['font.family'] = 'DejaVu Sans'\n",
    "plt.rcParams['figure.figsize'] = (10, 10)\n",
    "from IPython.display import Image, SVG, display"
   ]
  },
  {
   "cell_type": "code",
   "execution_count": 2,
   "metadata": {},
   "outputs": [],
   "source": [
    "def import_data(name):\n",
    "        return pd.read_csv('../data/'+ name +'.csv', header=None)"
   ]
  },
  {
   "cell_type": "code",
   "execution_count": 3,
   "metadata": {},
   "outputs": [],
   "source": [
    "from sklearn.preprocessing import StandardScaler\n",
    "scaler = StandardScaler()"
   ]
  },
  {
   "cell_type": "code",
   "execution_count": 4,
   "metadata": {},
   "outputs": [],
   "source": [
    "x_train = import_data('x_train')\n",
    "y_train = import_data('y_train')\n",
    "x_val = import_data('x_validation')\n",
    "y_val = import_data('y_validation')\n",
    "x_test = import_data('x_test')"
   ]
  },
  {
   "cell_type": "code",
   "execution_count": 5,
   "metadata": {},
   "outputs": [
    {
     "data": {
      "text/plain": [
       "StandardScaler(copy=True, with_mean=True, with_std=True)"
      ]
     },
     "execution_count": 5,
     "metadata": {},
     "output_type": "execute_result"
    }
   ],
   "source": [
    "scaler.fit(x_train)"
   ]
  },
  {
   "cell_type": "code",
   "execution_count": 6,
   "metadata": {},
   "outputs": [
    {
     "data": {
      "text/plain": [
       "array([[ 0.68175786, -1.04127011,  0.29667494, ...,  0.46257261,\n",
       "        -1.16489198,  1.50973193],\n",
       "       [-1.0184001 , -1.19653919,  0.67990464, ..., -0.78882241,\n",
       "         0.36220753,  0.24500916],\n",
       "       [-0.34250901, -0.24978444,  0.53025689, ..., -0.52701254,\n",
       "         0.65633797,  0.12388937],\n",
       "       ..., \n",
       "       [ 0.4573613 , -0.43761255,  0.58521471, ..., -0.08127109,\n",
       "        -0.77023686,  1.71760862],\n",
       "       [-0.85417947, -1.72119813, -0.56222144, ..., -0.19664121,\n",
       "        -0.28221329,  0.25296975],\n",
       "       [-1.13963296,  0.8683575 , -0.62867476, ..., -0.33596266,\n",
       "         0.35007418, -0.07479598]])"
      ]
     },
     "execution_count": 6,
     "metadata": {},
     "output_type": "execute_result"
    }
   ],
   "source": [
    "scaler.transform(x_train)\n",
    "scaler.transform(x_val)\n",
    "scaler.transform(x_test)"
   ]
  },
  {
   "cell_type": "code",
   "execution_count": 7,
   "metadata": {},
   "outputs": [
    {
     "data": {
      "text/plain": [
       "(100000, 32)"
      ]
     },
     "execution_count": 7,
     "metadata": {},
     "output_type": "execute_result"
    }
   ],
   "source": [
    "x_t = x_train.as_matrix().astype(np.float)\n",
    "#y_t = y_train.as_matrix().astype(np.float)\n",
    "x_v = x_val.as_matrix().astype(np.float)\n",
    "#y_v = y_val.as_matrix().astype(np.float)\n",
    "test = x_test.as_matrix().astype(np.float)\n",
    "x_t.shape"
   ]
  },
  {
   "cell_type": "markdown",
   "metadata": {},
   "source": [
    "Pridanie nasej vytvorenej featury z feature engeneering"
   ]
  },
  {
   "cell_type": "code",
   "execution_count": 8,
   "metadata": {},
   "outputs": [
    {
     "data": {
      "text/html": [
       "<div>\n",
       "<style>\n",
       "    .dataframe thead tr:only-child th {\n",
       "        text-align: right;\n",
       "    }\n",
       "\n",
       "    .dataframe thead th {\n",
       "        text-align: left;\n",
       "    }\n",
       "\n",
       "    .dataframe tbody tr th {\n",
       "        vertical-align: top;\n",
       "    }\n",
       "</style>\n",
       "<table border=\"1\" class=\"dataframe\">\n",
       "  <thead>\n",
       "    <tr style=\"text-align: right;\">\n",
       "      <th></th>\n",
       "      <th>0</th>\n",
       "      <th>1</th>\n",
       "      <th>2</th>\n",
       "      <th>3</th>\n",
       "      <th>4</th>\n",
       "      <th>5</th>\n",
       "      <th>6</th>\n",
       "      <th>7</th>\n",
       "      <th>8</th>\n",
       "      <th>9</th>\n",
       "      <th>...</th>\n",
       "      <th>22</th>\n",
       "      <th>23</th>\n",
       "      <th>24</th>\n",
       "      <th>25</th>\n",
       "      <th>26</th>\n",
       "      <th>27</th>\n",
       "      <th>28</th>\n",
       "      <th>29</th>\n",
       "      <th>30</th>\n",
       "      <th>31</th>\n",
       "    </tr>\n",
       "  </thead>\n",
       "  <tbody>\n",
       "    <tr>\n",
       "      <th>0</th>\n",
       "      <td>2.400931</td>\n",
       "      <td>4.235430</td>\n",
       "      <td>7.147523</td>\n",
       "      <td>0.455781</td>\n",
       "      <td>-1.471710</td>\n",
       "      <td>0.368072</td>\n",
       "      <td>1.402726</td>\n",
       "      <td>3.231591</td>\n",
       "      <td>-1.111184</td>\n",
       "      <td>2.542668</td>\n",
       "      <td>...</td>\n",
       "      <td>-1.278341</td>\n",
       "      <td>0.081948</td>\n",
       "      <td>0.934971</td>\n",
       "      <td>0.988862</td>\n",
       "      <td>-2.817641</td>\n",
       "      <td>0.573825</td>\n",
       "      <td>3.931404</td>\n",
       "      <td>0.204244</td>\n",
       "      <td>10.623778</td>\n",
       "      <td>-8.322258</td>\n",
       "    </tr>\n",
       "    <tr>\n",
       "      <th>1</th>\n",
       "      <td>2.959725</td>\n",
       "      <td>-2.146311</td>\n",
       "      <td>1.201100</td>\n",
       "      <td>4.206000</td>\n",
       "      <td>6.006231</td>\n",
       "      <td>1.064849</td>\n",
       "      <td>-1.838940</td>\n",
       "      <td>-0.227245</td>\n",
       "      <td>-0.346572</td>\n",
       "      <td>-0.451681</td>\n",
       "      <td>...</td>\n",
       "      <td>-3.672226</td>\n",
       "      <td>-1.047564</td>\n",
       "      <td>-1.498405</td>\n",
       "      <td>-0.921323</td>\n",
       "      <td>-0.384467</td>\n",
       "      <td>-1.260944</td>\n",
       "      <td>-0.721455</td>\n",
       "      <td>3.082391</td>\n",
       "      <td>6.122824</td>\n",
       "      <td>-2.656565</td>\n",
       "    </tr>\n",
       "    <tr>\n",
       "      <th>2</th>\n",
       "      <td>3.543542</td>\n",
       "      <td>-0.753945</td>\n",
       "      <td>0.459010</td>\n",
       "      <td>1.193610</td>\n",
       "      <td>4.166587</td>\n",
       "      <td>1.610900</td>\n",
       "      <td>-3.181179</td>\n",
       "      <td>-0.414485</td>\n",
       "      <td>-3.642286</td>\n",
       "      <td>0.527908</td>\n",
       "      <td>...</td>\n",
       "      <td>-5.564399</td>\n",
       "      <td>-0.667491</td>\n",
       "      <td>-2.781279</td>\n",
       "      <td>0.389482</td>\n",
       "      <td>-3.455173</td>\n",
       "      <td>0.395151</td>\n",
       "      <td>1.614165</td>\n",
       "      <td>0.867497</td>\n",
       "      <td>6.588551</td>\n",
       "      <td>-6.279469</td>\n",
       "    </tr>\n",
       "    <tr>\n",
       "      <th>3</th>\n",
       "      <td>-2.940113</td>\n",
       "      <td>1.279881</td>\n",
       "      <td>-2.462053</td>\n",
       "      <td>-0.744649</td>\n",
       "      <td>-1.845080</td>\n",
       "      <td>-2.705489</td>\n",
       "      <td>1.125120</td>\n",
       "      <td>-0.839736</td>\n",
       "      <td>-3.896343</td>\n",
       "      <td>-1.120876</td>\n",
       "      <td>...</td>\n",
       "      <td>3.240573</td>\n",
       "      <td>-0.576021</td>\n",
       "      <td>3.706526</td>\n",
       "      <td>1.195011</td>\n",
       "      <td>-1.887120</td>\n",
       "      <td>-0.813390</td>\n",
       "      <td>-0.098769</td>\n",
       "      <td>0.525311</td>\n",
       "      <td>12.889137</td>\n",
       "      <td>-5.339454</td>\n",
       "    </tr>\n",
       "    <tr>\n",
       "      <th>4</th>\n",
       "      <td>6.907914</td>\n",
       "      <td>-1.035285</td>\n",
       "      <td>-1.841294</td>\n",
       "      <td>-0.060504</td>\n",
       "      <td>4.320388</td>\n",
       "      <td>2.423103</td>\n",
       "      <td>-5.194417</td>\n",
       "      <td>-0.937909</td>\n",
       "      <td>-4.159663</td>\n",
       "      <td>4.763647</td>\n",
       "      <td>...</td>\n",
       "      <td>-0.639724</td>\n",
       "      <td>1.529124</td>\n",
       "      <td>-2.930810</td>\n",
       "      <td>0.347728</td>\n",
       "      <td>-3.324413</td>\n",
       "      <td>3.475989</td>\n",
       "      <td>4.956617</td>\n",
       "      <td>0.037510</td>\n",
       "      <td>5.432440</td>\n",
       "      <td>-2.220027</td>\n",
       "    </tr>\n",
       "  </tbody>\n",
       "</table>\n",
       "<p>5 rows × 32 columns</p>\n",
       "</div>"
      ],
      "text/plain": [
       "         0         1         2         3         4         5         6   \\\n",
       "0  2.400931  4.235430  7.147523  0.455781 -1.471710  0.368072  1.402726   \n",
       "1  2.959725 -2.146311  1.201100  4.206000  6.006231  1.064849 -1.838940   \n",
       "2  3.543542 -0.753945  0.459010  1.193610  4.166587  1.610900 -3.181179   \n",
       "3 -2.940113  1.279881 -2.462053 -0.744649 -1.845080 -2.705489  1.125120   \n",
       "4  6.907914 -1.035285 -1.841294 -0.060504  4.320388  2.423103 -5.194417   \n",
       "\n",
       "         7         8         9     ...           22        23        24  \\\n",
       "0  3.231591 -1.111184  2.542668    ...    -1.278341  0.081948  0.934971   \n",
       "1 -0.227245 -0.346572 -0.451681    ...    -3.672226 -1.047564 -1.498405   \n",
       "2 -0.414485 -3.642286  0.527908    ...    -5.564399 -0.667491 -2.781279   \n",
       "3 -0.839736 -3.896343 -1.120876    ...     3.240573 -0.576021  3.706526   \n",
       "4 -0.937909 -4.159663  4.763647    ...    -0.639724  1.529124 -2.930810   \n",
       "\n",
       "         25        26        27        28        29         30        31  \n",
       "0  0.988862 -2.817641  0.573825  3.931404  0.204244  10.623778 -8.322258  \n",
       "1 -0.921323 -0.384467 -1.260944 -0.721455  3.082391   6.122824 -2.656565  \n",
       "2  0.389482 -3.455173  0.395151  1.614165  0.867497   6.588551 -6.279469  \n",
       "3  1.195011 -1.887120 -0.813390 -0.098769  0.525311  12.889137 -5.339454  \n",
       "4  0.347728 -3.324413  3.475989  4.956617  0.037510   5.432440 -2.220027  \n",
       "\n",
       "[5 rows x 32 columns]"
      ]
     },
     "execution_count": 8,
     "metadata": {},
     "output_type": "execute_result"
    }
   ],
   "source": [
    "x_train.head()"
   ]
  },
  {
   "cell_type": "code",
   "execution_count": 9,
   "metadata": {},
   "outputs": [
    {
     "data": {
      "text/plain": [
       "(100000, 32)"
      ]
     },
     "execution_count": 9,
     "metadata": {},
     "output_type": "execute_result"
    }
   ],
   "source": [
    "x_t = x_train.as_matrix().astype(np.float)\n",
    "y_t = y_train.as_matrix().astype(np.float)\n",
    "x_v = x_val.as_matrix().astype(np.float)\n",
    "y_v = y_val.as_matrix().astype(np.float)\n",
    "test = x_test.as_matrix().astype(np.float)\n",
    "x_t.shape"
   ]
  },
  {
   "cell_type": "markdown",
   "metadata": {},
   "source": [
    "### KNN classifier with SFFS"
   ]
  },
  {
   "cell_type": "code",
   "execution_count": 13,
   "metadata": {},
   "outputs": [
    {
     "data": {
      "text/plain": [
       "array([ 1.,  1.,  1., ...,  0.,  1.,  0.])"
      ]
     },
     "execution_count": 13,
     "metadata": {},
     "output_type": "execute_result"
    }
   ],
   "source": [
    "y_t = y_t.reshape(100000,)\n",
    "y_v = y_v.reshape(20000,)\n",
    "y_v"
   ]
  },
  {
   "cell_type": "code",
   "execution_count": 27,
   "metadata": {},
   "outputs": [
    {
     "name": "stdout",
     "output_type": "stream",
     "text": [
      "\n",
      "Sequential Forward Floating Selection (k=5):\n",
      "(2, 6, 7, 9, 12, 16, 21, 22, 23, 32)\n",
      "CV Score:\n",
      "0.757999959808\n"
     ]
    }
   ],
   "source": [
    "from mlxtend.feature_selection import SequentialFeatureSelector as SFS\n",
    "from sklearn.neighbors import KNeighborsClassifier\n",
    "\n",
    "knn = KNeighborsClassifier(n_neighbors=4)\n",
    "\n",
    "sffs = SFS(knn, \n",
    "           k_features=10, \n",
    "           forward=True, \n",
    "           floating=True, \n",
    "           scoring='accuracy',\n",
    "           cv=4,\n",
    "           n_jobs=-1)\n",
    "sffs = sffs.fit(x_t, y_t)\n",
    "\n",
    "print('\\nSequential Forward Floating Selection (k=5):')\n",
    "print(sffs.k_feature_idx_)\n",
    "print('CV Score:')\n",
    "print(sffs.k_score_)"
   ]
  },
  {
   "cell_type": "code",
   "execution_count": 28,
   "metadata": {},
   "outputs": [
    {
     "data": {
      "text/html": [
       "<div>\n",
       "<style>\n",
       "    .dataframe thead tr:only-child th {\n",
       "        text-align: right;\n",
       "    }\n",
       "\n",
       "    .dataframe thead th {\n",
       "        text-align: left;\n",
       "    }\n",
       "\n",
       "    .dataframe tbody tr th {\n",
       "        vertical-align: top;\n",
       "    }\n",
       "</style>\n",
       "<table border=\"1\" class=\"dataframe\">\n",
       "  <thead>\n",
       "    <tr style=\"text-align: right;\">\n",
       "      <th></th>\n",
       "      <th>avg_score</th>\n",
       "      <th>ci_bound</th>\n",
       "      <th>cv_scores</th>\n",
       "      <th>feature_idx</th>\n",
       "      <th>std_dev</th>\n",
       "      <th>std_err</th>\n",
       "    </tr>\n",
       "  </thead>\n",
       "  <tbody>\n",
       "    <tr>\n",
       "      <th>1</th>\n",
       "      <td>0.56187</td>\n",
       "      <td>0.00189786</td>\n",
       "      <td>[0.563777448902, 0.56084, 0.56092, 0.561942477...</td>\n",
       "      <td>(32,)</td>\n",
       "      <td>0.00118396</td>\n",
       "      <td>0.000683558</td>\n",
       "    </tr>\n",
       "    <tr>\n",
       "      <th>2</th>\n",
       "      <td>0.62657</td>\n",
       "      <td>0.00327302</td>\n",
       "      <td>[0.629854805808, 0.62424, 0.62612, 0.626065042...</td>\n",
       "      <td>(16, 32)</td>\n",
       "      <td>0.00204183</td>\n",
       "      <td>0.00117885</td>\n",
       "    </tr>\n",
       "    <tr>\n",
       "      <th>3</th>\n",
       "      <td>0.67025</td>\n",
       "      <td>0.00584888</td>\n",
       "      <td>[0.671333146674, 0.6642, 0.67148, 0.673986959478]</td>\n",
       "      <td>(2, 16, 32)</td>\n",
       "      <td>0.00364875</td>\n",
       "      <td>0.00210661</td>\n",
       "    </tr>\n",
       "    <tr>\n",
       "      <th>4</th>\n",
       "      <td>0.69286</td>\n",
       "      <td>0.00480742</td>\n",
       "      <td>[0.696292148314, 0.68804, 0.69352, 0.69358774351]</td>\n",
       "      <td>(2, 16, 21, 32)</td>\n",
       "      <td>0.00299905</td>\n",
       "      <td>0.0017315</td>\n",
       "    </tr>\n",
       "    <tr>\n",
       "      <th>5</th>\n",
       "      <td>0.71832</td>\n",
       "      <td>0.00317841</td>\n",
       "      <td>[0.717771289148, 0.71552, 0.719, 0.720988839554]</td>\n",
       "      <td>(2, 7, 16, 21, 32)</td>\n",
       "      <td>0.00198281</td>\n",
       "      <td>0.00114478</td>\n",
       "    </tr>\n",
       "    <tr>\n",
       "      <th>6</th>\n",
       "      <td>0.73484</td>\n",
       "      <td>0.00431528</td>\n",
       "      <td>[0.735570577177, 0.73028, 0.73716, 0.736349453...</td>\n",
       "      <td>(2, 7, 12, 16, 21, 32)</td>\n",
       "      <td>0.00269203</td>\n",
       "      <td>0.00155425</td>\n",
       "    </tr>\n",
       "    <tr>\n",
       "      <th>7</th>\n",
       "      <td>0.74578</td>\n",
       "      <td>0.0038026</td>\n",
       "      <td>[0.748690052398, 0.74216, 0.74672, 0.745549821...</td>\n",
       "      <td>(2, 7, 12, 16, 21, 22, 32)</td>\n",
       "      <td>0.0023722</td>\n",
       "      <td>0.00136959</td>\n",
       "    </tr>\n",
       "    <tr>\n",
       "      <th>8</th>\n",
       "      <td>0.75067</td>\n",
       "      <td>0.00416618</td>\n",
       "      <td>[0.753769849206, 0.74688, 0.7522, 0.7498299932]</td>\n",
       "      <td>(2, 6, 7, 12, 16, 21, 22, 32)</td>\n",
       "      <td>0.00259902</td>\n",
       "      <td>0.00150055</td>\n",
       "    </tr>\n",
       "    <tr>\n",
       "      <th>9</th>\n",
       "      <td>0.7548</td>\n",
       "      <td>0.00370847</td>\n",
       "      <td>[0.758329666813, 0.75188, 0.75484, 0.754150166...</td>\n",
       "      <td>(2, 6, 7, 9, 12, 16, 21, 22, 32)</td>\n",
       "      <td>0.00231348</td>\n",
       "      <td>0.00133569</td>\n",
       "    </tr>\n",
       "    <tr>\n",
       "      <th>10</th>\n",
       "      <td>0.758</td>\n",
       "      <td>0.00526535</td>\n",
       "      <td>[0.76252949882, 0.75328, 0.75768, 0.758510340414]</td>\n",
       "      <td>(2, 6, 7, 9, 12, 16, 21, 22, 23, 32)</td>\n",
       "      <td>0.00328472</td>\n",
       "      <td>0.00189644</td>\n",
       "    </tr>\n",
       "  </tbody>\n",
       "</table>\n",
       "</div>"
      ],
      "text/plain": [
       "   avg_score    ci_bound                                          cv_scores  \\\n",
       "1    0.56187  0.00189786  [0.563777448902, 0.56084, 0.56092, 0.561942477...   \n",
       "2    0.62657  0.00327302  [0.629854805808, 0.62424, 0.62612, 0.626065042...   \n",
       "3    0.67025  0.00584888  [0.671333146674, 0.6642, 0.67148, 0.673986959478]   \n",
       "4    0.69286  0.00480742  [0.696292148314, 0.68804, 0.69352, 0.69358774351]   \n",
       "5    0.71832  0.00317841   [0.717771289148, 0.71552, 0.719, 0.720988839554]   \n",
       "6    0.73484  0.00431528  [0.735570577177, 0.73028, 0.73716, 0.736349453...   \n",
       "7    0.74578   0.0038026  [0.748690052398, 0.74216, 0.74672, 0.745549821...   \n",
       "8    0.75067  0.00416618    [0.753769849206, 0.74688, 0.7522, 0.7498299932]   \n",
       "9     0.7548  0.00370847  [0.758329666813, 0.75188, 0.75484, 0.754150166...   \n",
       "10     0.758  0.00526535  [0.76252949882, 0.75328, 0.75768, 0.758510340414]   \n",
       "\n",
       "                             feature_idx     std_dev      std_err  \n",
       "1                                  (32,)  0.00118396  0.000683558  \n",
       "2                               (16, 32)  0.00204183   0.00117885  \n",
       "3                            (2, 16, 32)  0.00364875   0.00210661  \n",
       "4                        (2, 16, 21, 32)  0.00299905    0.0017315  \n",
       "5                     (2, 7, 16, 21, 32)  0.00198281   0.00114478  \n",
       "6                 (2, 7, 12, 16, 21, 32)  0.00269203   0.00155425  \n",
       "7             (2, 7, 12, 16, 21, 22, 32)   0.0023722   0.00136959  \n",
       "8          (2, 6, 7, 12, 16, 21, 22, 32)  0.00259902   0.00150055  \n",
       "9       (2, 6, 7, 9, 12, 16, 21, 22, 32)  0.00231348   0.00133569  \n",
       "10  (2, 6, 7, 9, 12, 16, 21, 22, 23, 32)  0.00328472   0.00189644  "
      ]
     },
     "execution_count": 28,
     "metadata": {},
     "output_type": "execute_result"
    }
   ],
   "source": [
    "pd.DataFrame.from_dict(sffs.get_metric_dict()).T"
   ]
  },
  {
   "cell_type": "code",
   "execution_count": 29,
   "metadata": {},
   "outputs": [
    {
     "data": {
      "image/png": "[encoded data removed]",
      "text/plain": [
       "<matplotlib.figure.Figure at 0x1ac14c21b38>"
      ]
     },
     "metadata": {},
     "output_type": "display_data"
    }
   ],
   "source": [
    "from mlxtend.plotting import plot_sequential_feature_selection as plot_sfs\n",
    "import matplotlib.pyplot as plt\n",
    "\n",
    "fig1 = plot_sfs(sffs.get_metric_dict(), kind='std_dev')\n",
    "\n",
    "#plt.ylim([0.8, 1])\n",
    "plt.title('Sequential Forward Selection (w. StdDev)')\n",
    "plt.grid()\n",
    "plt.show()"
   ]
  },
  {
   "cell_type": "code",
   "execution_count": 31,
   "metadata": {},
   "outputs": [
    {
     "name": "stdout",
     "output_type": "stream",
     "text": [
      "Test set accuracy: 75.83 %\n"
     ]
    }
   ],
   "source": [
    "X_train_sfs = sffs.transform(x_t)\n",
    "X_test_sfs = sffs.transform(x_v)\n",
    "\n",
    "# Fit the estimator using the new feature subset\n",
    "# and make a prediction on the test data\n",
    "knn.fit(X_train_sfs, y_t)\n",
    "y_pred = knn.predict(X_test_sfs)\n",
    "\n",
    "# Compute the accuracy of the prediction\n",
    "acc = float((y_v == y_pred).sum()) / y_pred.shape[0]\n",
    "print('Test set accuracy: %.2f %%' % (acc * 100))"
   ]
  },
  {
   "cell_type": "markdown",
   "metadata": {},
   "source": [
    "Vidime ze pri uz 10 crtach to celkom dobre funguje, SFS si vyzaduje velku casovu narocnost pre zistenie najlepsich crt, preto sme to len vyskusali pri 10 crtach."
   ]
  },
  {
   "cell_type": "markdown",
   "metadata": {},
   "source": [
    "#### KNN without SFFS with all features"
   ]
  },
  {
   "cell_type": "code",
   "execution_count": 33,
   "metadata": {},
   "outputs": [
    {
     "name": "stdout",
     "output_type": "stream",
     "text": [
      "Test set accuracy: 78.57 %\n"
     ]
    }
   ],
   "source": [
    "from sklearn.neighbors import KNeighborsClassifier\n",
    "\n",
    "knn1 = KNeighborsClassifier()\n",
    "knn1.fit(x_t, y_t)\n",
    "pred = knn1.predict(x_v)\n",
    "\n",
    "# Compute the accuracy of the prediction\n",
    "acc = float((y_v == pred).sum()) / pred.shape[0]\n",
    "print('Test set accuracy: %.2f %%' % (acc * 100))"
   ]
  },
  {
   "cell_type": "markdown",
   "metadata": {},
   "source": [
    "#### Random forest"
   ]
  },
  {
   "cell_type": "code",
   "execution_count": 29,
   "metadata": {},
   "outputs": [
    {
     "data": {
      "text/plain": [
       "RandomForestClassifier(bootstrap=True, class_weight=None, criterion='gini',\n",
       "            max_depth=None, max_features='auto', max_leaf_nodes=None,\n",
       "            min_impurity_decrease=0.0, min_impurity_split=None,\n",
       "            min_samples_leaf=1, min_samples_split=2,\n",
       "            min_weight_fraction_leaf=0.0, n_estimators=10, n_jobs=1,\n",
       "            oob_score=False, random_state=None, verbose=0,\n",
       "            warm_start=False)"
      ]
     },
     "execution_count": 29,
     "metadata": {},
     "output_type": "execute_result"
    }
   ],
   "source": [
    "from sklearn.ensemble import RandomForestClassifier\n",
    "\n",
    "clf = RandomForestClassifier()\n",
    "clf.fit(x_t, y_t)"
   ]
  },
  {
   "cell_type": "code",
   "execution_count": 30,
   "metadata": {},
   "outputs": [
    {
     "data": {
      "text/plain": [
       "0.83509999999999995"
      ]
     },
     "execution_count": 30,
     "metadata": {},
     "output_type": "execute_result"
    }
   ],
   "source": [
    "pred = clf.predict(x_v)\n",
    "accuracy_score(pred, y_v)"
   ]
  },
  {
   "cell_type": "markdown",
   "metadata": {},
   "source": [
    "#### SVM classifier"
   ]
  },
  {
   "cell_type": "code",
   "execution_count": 22,
   "metadata": {},
   "outputs": [
    {
     "data": {
      "text/plain": [
       "0.93920000000000003"
      ]
     },
     "execution_count": 22,
     "metadata": {},
     "output_type": "execute_result"
    }
   ],
   "source": [
    "from sklearn import svm\n",
    "clf = svm.SVC()\n",
    "clf.fit(x_t, y_t)\n",
    "\n",
    "pred = clf.predict(x_v)\n",
    "accuracy_score(pred, y_v)"
   ]
  },
  {
   "cell_type": "markdown",
   "metadata": {},
   "source": [
    "Ako vidime simulovali sme najlepsie baseline riesenia, ktore su uvedene na stranke wikt_challenge.\n",
    "Nasou neuronovou sietou sa nam vsak podarilo do siahnut accuracy okolo 96%. Skusme ale najprv pridat nase novu crtu a \n",
    "spustit nase klasifikatori este raz."
   ]
  },
  {
   "cell_type": "code",
   "execution_count": 10,
   "metadata": {},
   "outputs": [],
   "source": [
    "col_list = list(x_train)\n",
    "#for training set\n",
    "col = []\n",
    "for i in range(0, x_train.shape[0]):\n",
    "    col.append(np.sum(x_t[i,:] - scaler.mean_))\n",
    "x_train['sum'] = col\n",
    "\n",
    "#for validation set\n",
    "col = []\n",
    "for i in range(0, x_val.shape[0]):\n",
    "    col.append(np.sum(x_v[i,:] - scaler.mean_))\n",
    "x_val['sum'] = col\n",
    "\n",
    "#for test set\n",
    "col = []\n",
    "for i in range(0, x_test.shape[0]):\n",
    "    col.append(np.sum(test[i,:] - scaler.mean_))\n",
    "x_test['sum'] = col"
   ]
  },
  {
   "cell_type": "code",
   "execution_count": 11,
   "metadata": {},
   "outputs": [
    {
     "data": {
      "text/html": [
       "<div>\n",
       "<style>\n",
       "    .dataframe thead tr:only-child th {\n",
       "        text-align: right;\n",
       "    }\n",
       "\n",
       "    .dataframe thead th {\n",
       "        text-align: left;\n",
       "    }\n",
       "\n",
       "    .dataframe tbody tr th {\n",
       "        vertical-align: top;\n",
       "    }\n",
       "</style>\n",
       "<table border=\"1\" class=\"dataframe\">\n",
       "  <thead>\n",
       "    <tr style=\"text-align: right;\">\n",
       "      <th></th>\n",
       "      <th>0</th>\n",
       "      <th>1</th>\n",
       "      <th>2</th>\n",
       "      <th>3</th>\n",
       "      <th>4</th>\n",
       "      <th>5</th>\n",
       "      <th>6</th>\n",
       "      <th>7</th>\n",
       "      <th>8</th>\n",
       "      <th>9</th>\n",
       "      <th>...</th>\n",
       "      <th>23</th>\n",
       "      <th>24</th>\n",
       "      <th>25</th>\n",
       "      <th>26</th>\n",
       "      <th>27</th>\n",
       "      <th>28</th>\n",
       "      <th>29</th>\n",
       "      <th>30</th>\n",
       "      <th>31</th>\n",
       "      <th>sum</th>\n",
       "    </tr>\n",
       "  </thead>\n",
       "  <tbody>\n",
       "    <tr>\n",
       "      <th>0</th>\n",
       "      <td>2.400931</td>\n",
       "      <td>4.235430</td>\n",
       "      <td>7.147523</td>\n",
       "      <td>0.455781</td>\n",
       "      <td>-1.471710</td>\n",
       "      <td>0.368072</td>\n",
       "      <td>1.402726</td>\n",
       "      <td>3.231591</td>\n",
       "      <td>-1.111184</td>\n",
       "      <td>2.542668</td>\n",
       "      <td>...</td>\n",
       "      <td>0.081948</td>\n",
       "      <td>0.934971</td>\n",
       "      <td>0.988862</td>\n",
       "      <td>-2.817641</td>\n",
       "      <td>0.573825</td>\n",
       "      <td>3.931404</td>\n",
       "      <td>0.204244</td>\n",
       "      <td>10.623778</td>\n",
       "      <td>-8.322258</td>\n",
       "      <td>9.796911</td>\n",
       "    </tr>\n",
       "    <tr>\n",
       "      <th>1</th>\n",
       "      <td>2.959725</td>\n",
       "      <td>-2.146311</td>\n",
       "      <td>1.201100</td>\n",
       "      <td>4.206000</td>\n",
       "      <td>6.006231</td>\n",
       "      <td>1.064849</td>\n",
       "      <td>-1.838940</td>\n",
       "      <td>-0.227245</td>\n",
       "      <td>-0.346572</td>\n",
       "      <td>-0.451681</td>\n",
       "      <td>...</td>\n",
       "      <td>-1.047564</td>\n",
       "      <td>-1.498405</td>\n",
       "      <td>-0.921323</td>\n",
       "      <td>-0.384467</td>\n",
       "      <td>-1.260944</td>\n",
       "      <td>-0.721455</td>\n",
       "      <td>3.082391</td>\n",
       "      <td>6.122824</td>\n",
       "      <td>-2.656565</td>\n",
       "      <td>-0.240175</td>\n",
       "    </tr>\n",
       "    <tr>\n",
       "      <th>2</th>\n",
       "      <td>3.543542</td>\n",
       "      <td>-0.753945</td>\n",
       "      <td>0.459010</td>\n",
       "      <td>1.193610</td>\n",
       "      <td>4.166587</td>\n",
       "      <td>1.610900</td>\n",
       "      <td>-3.181179</td>\n",
       "      <td>-0.414485</td>\n",
       "      <td>-3.642286</td>\n",
       "      <td>0.527908</td>\n",
       "      <td>...</td>\n",
       "      <td>-0.667491</td>\n",
       "      <td>-2.781279</td>\n",
       "      <td>0.389482</td>\n",
       "      <td>-3.455173</td>\n",
       "      <td>0.395151</td>\n",
       "      <td>1.614165</td>\n",
       "      <td>0.867497</td>\n",
       "      <td>6.588551</td>\n",
       "      <td>-6.279469</td>\n",
       "      <td>-11.220550</td>\n",
       "    </tr>\n",
       "    <tr>\n",
       "      <th>3</th>\n",
       "      <td>-2.940113</td>\n",
       "      <td>1.279881</td>\n",
       "      <td>-2.462053</td>\n",
       "      <td>-0.744649</td>\n",
       "      <td>-1.845080</td>\n",
       "      <td>-2.705489</td>\n",
       "      <td>1.125120</td>\n",
       "      <td>-0.839736</td>\n",
       "      <td>-3.896343</td>\n",
       "      <td>-1.120876</td>\n",
       "      <td>...</td>\n",
       "      <td>-0.576021</td>\n",
       "      <td>3.706526</td>\n",
       "      <td>1.195011</td>\n",
       "      <td>-1.887120</td>\n",
       "      <td>-0.813390</td>\n",
       "      <td>-0.098769</td>\n",
       "      <td>0.525311</td>\n",
       "      <td>12.889137</td>\n",
       "      <td>-5.339454</td>\n",
       "      <td>-8.460616</td>\n",
       "    </tr>\n",
       "    <tr>\n",
       "      <th>4</th>\n",
       "      <td>6.907914</td>\n",
       "      <td>-1.035285</td>\n",
       "      <td>-1.841294</td>\n",
       "      <td>-0.060504</td>\n",
       "      <td>4.320388</td>\n",
       "      <td>2.423103</td>\n",
       "      <td>-5.194417</td>\n",
       "      <td>-0.937909</td>\n",
       "      <td>-4.159663</td>\n",
       "      <td>4.763647</td>\n",
       "      <td>...</td>\n",
       "      <td>1.529124</td>\n",
       "      <td>-2.930810</td>\n",
       "      <td>0.347728</td>\n",
       "      <td>-3.324413</td>\n",
       "      <td>3.475989</td>\n",
       "      <td>4.956617</td>\n",
       "      <td>0.037510</td>\n",
       "      <td>5.432440</td>\n",
       "      <td>-2.220027</td>\n",
       "      <td>84.357128</td>\n",
       "    </tr>\n",
       "  </tbody>\n",
       "</table>\n",
       "<p>5 rows × 33 columns</p>\n",
       "</div>"
      ],
      "text/plain": [
       "          0         1         2         3         4         5         6  \\\n",
       "0  2.400931  4.235430  7.147523  0.455781 -1.471710  0.368072  1.402726   \n",
       "1  2.959725 -2.146311  1.201100  4.206000  6.006231  1.064849 -1.838940   \n",
       "2  3.543542 -0.753945  0.459010  1.193610  4.166587  1.610900 -3.181179   \n",
       "3 -2.940113  1.279881 -2.462053 -0.744649 -1.845080 -2.705489  1.125120   \n",
       "4  6.907914 -1.035285 -1.841294 -0.060504  4.320388  2.423103 -5.194417   \n",
       "\n",
       "          7         8         9    ...            23        24        25  \\\n",
       "0  3.231591 -1.111184  2.542668    ...      0.081948  0.934971  0.988862   \n",
       "1 -0.227245 -0.346572 -0.451681    ...     -1.047564 -1.498405 -0.921323   \n",
       "2 -0.414485 -3.642286  0.527908    ...     -0.667491 -2.781279  0.389482   \n",
       "3 -0.839736 -3.896343 -1.120876    ...     -0.576021  3.706526  1.195011   \n",
       "4 -0.937909 -4.159663  4.763647    ...      1.529124 -2.930810  0.347728   \n",
       "\n",
       "         26        27        28        29         30        31        sum  \n",
       "0 -2.817641  0.573825  3.931404  0.204244  10.623778 -8.322258   9.796911  \n",
       "1 -0.384467 -1.260944 -0.721455  3.082391   6.122824 -2.656565  -0.240175  \n",
       "2 -3.455173  0.395151  1.614165  0.867497   6.588551 -6.279469 -11.220550  \n",
       "3 -1.887120 -0.813390 -0.098769  0.525311  12.889137 -5.339454  -8.460616  \n",
       "4 -3.324413  3.475989  4.956617  0.037510   5.432440 -2.220027  84.357128  \n",
       "\n",
       "[5 rows x 33 columns]"
      ]
     },
     "execution_count": 11,
     "metadata": {},
     "output_type": "execute_result"
    }
   ],
   "source": [
    "x_t = x_train.as_matrix().astype(np.float)\n",
    "y_t = y_train.as_matrix().astype(np.float)\n",
    "x_v = x_val.as_matrix().astype(np.float)\n",
    "y_v = y_val.as_matrix().astype(np.float)\n",
    "test = x_test.as_matrix().astype(np.float)\n",
    "y_t = y_t.reshape(100000,)\n",
    "y_v = y_v.reshape(20000,)\n",
    "x_train.head()"
   ]
  },
  {
   "cell_type": "markdown",
   "metadata": {},
   "source": [
    "Vyskusajme na trenovat niektore nase klasifikatory s novou crtou"
   ]
  },
  {
   "cell_type": "markdown",
   "metadata": {},
   "source": [
    "###### Random Forest"
   ]
  },
  {
   "cell_type": "code",
   "execution_count": 42,
   "metadata": {},
   "outputs": [
    {
     "name": "stderr",
     "output_type": "stream",
     "text": [
      "c:\\users\\thedarkside\\mnist_set\\lib\\site-packages\\ipykernel_launcher.py:2: DataConversionWarning: A column-vector y was passed when a 1d array was expected. Please change the shape of y to (n_samples,), for example using ravel().\n",
      "  \n"
     ]
    },
    {
     "data": {
      "text/plain": [
       "0.83525000000000005"
      ]
     },
     "execution_count": 42,
     "metadata": {},
     "output_type": "execute_result"
    }
   ],
   "source": [
    "clf = RandomForestClassifier()\n",
    "clf.fit(x_t, y_t)\n",
    "\n",
    "pred = clf.predict(x_v)\n",
    "accuracy_score(pred, y_v)"
   ]
  },
  {
   "cell_type": "markdown",
   "metadata": {},
   "source": [
    "Vidime zlepsenie pozorujeme zlepsenie pri klasifikatore random forest. Mohli by sme takto natrenovat aj SVM ale nebudeme to robit kvoli dlzke trenovania"
   ]
  },
  {
   "cell_type": "markdown",
   "metadata": {},
   "source": [
    "# ENSAMBLE LEARNING\n",
    "#### Pouzitie vahovania"
   ]
  },
  {
   "cell_type": "code",
   "execution_count": 14,
   "metadata": {},
   "outputs": [
    {
     "data": {
      "text/plain": [
       "0.69509994669704978"
      ]
     },
     "execution_count": 14,
     "metadata": {},
     "output_type": "execute_result"
    }
   ],
   "source": [
    "from sklearn import cross_validation\n",
    "from sklearn.linear_model import LogisticRegression\n",
    "from sklearn.naive_bayes import GaussianNB \n",
    "from sklearn.ensemble import RandomForestClassifier\n",
    "\n",
    "from sklearn.ensemble import VotingClassifier\n",
    "\n",
    "# Training classifiers\n",
    "clf1 = LogisticRegression()\n",
    "clf2 = RandomForestClassifier()\n",
    "clf3 = GaussianNB()\n",
    "eclf = VotingClassifier(estimators=[('LR', clf1), ('RF', clf2), ('NB', clf3)], voting='hard', weights=[1,1,1])\n",
    "\n",
    "scores = cross_validation.cross_val_score(eclf, x_t, y_t, cv=5, scoring='accuracy')\n",
    "scores.mean()"
   ]
  },
  {
   "cell_type": "code",
   "execution_count": 15,
   "metadata": {},
   "outputs": [
    {
     "name": "stdout",
     "output_type": "stream",
     "text": [
      "Test set accuracy: 69.45 %\n"
     ]
    }
   ],
   "source": [
    "eclf.fit(x_t, y_t)\n",
    "pred = eclf.predict(x_v)\n",
    "acc = float((y_v == pred).sum()) / pred.shape[0]\n",
    "print('Test set accuracy: %.2f %%' % (acc * 100))"
   ]
  },
  {
   "cell_type": "markdown",
   "metadata": {},
   "source": [
    "#### Adaboost"
   ]
  },
  {
   "cell_type": "code",
   "execution_count": 32,
   "metadata": {},
   "outputs": [
    {
     "name": "stdout",
     "output_type": "stream",
     "text": [
      "0.64751\n"
     ]
    }
   ],
   "source": [
    "from sklearn import model_selection\n",
    "from sklearn.ensemble import AdaBoostClassifier\n",
    "\n",
    "kfold = model_selection.KFold(n_splits=5)\n",
    "model = AdaBoostClassifier()\n",
    "results = model_selection.cross_val_score(model, x_t, y_t, cv=kfold)\n",
    "print(results.mean())"
   ]
  },
  {
   "cell_type": "code",
   "execution_count": 36,
   "metadata": {},
   "outputs": [
    {
     "name": "stdout",
     "output_type": "stream",
     "text": [
      "Test set accuracy: 69.45 %\n"
     ]
    }
   ],
   "source": [
    "model.fit(x_t, y_t)\n",
    "pred = eclf.predict(x_v)\n",
    "acc = float((y_v == pred).sum()) / pred.shape[0]\n",
    "print('Test set accuracy: %.2f %%' % (acc * 100))"
   ]
  },
  {
   "cell_type": "markdown",
   "metadata": {},
   "source": [
    "##### Stochastic Gradient Boosting"
   ]
  },
  {
   "cell_type": "code",
   "execution_count": 22,
   "metadata": {},
   "outputs": [
    {
     "name": "stdout",
     "output_type": "stream",
     "text": [
      "0.67707\n"
     ]
    }
   ],
   "source": [
    "from sklearn import model_selection\n",
    "from sklearn.ensemble import GradientBoostingClassifier\n",
    "\n",
    "seed = 7\n",
    "num_trees = 100\n",
    "kfold = model_selection.KFold(n_splits=5, random_state=seed)\n",
    "model = GradientBoostingClassifier(n_estimators=num_trees, random_state=seed)\n",
    "results = model_selection.cross_val_score(model, x_t, y_t, cv=kfold)\n",
    "print(results.mean())"
   ]
  },
  {
   "cell_type": "code",
   "execution_count": 23,
   "metadata": {},
   "outputs": [
    {
     "name": "stdout",
     "output_type": "stream",
     "text": [
      "Test set accuracy: 69.45 %\n"
     ]
    }
   ],
   "source": [
    "model.fit(x_t, y_t)\n",
    "pred = eclf.predict(x_v)\n",
    "acc = float((y_v == pred).sum()) / pred.shape[0]\n",
    "print('Test set accuracy: %.2f %%' % (acc * 100))"
   ]
  },
  {
   "cell_type": "markdown",
   "metadata": {},
   "source": [
    "## Zaver\n",
    "\n",
    "Vyskusali sme si viacero standartnych klasifikatorov a zistili sme ze predikuju dobre uz ich zakladne verzie. Pridanim novej crty sme dosiahli zlepsenie. Taktiez sme si vyskusali niektore metody ucenia posilnovanim. Videli sme ze vahovanim dokazeme kombinovat predpovede metod strojoveho ucenia. \n",
    "\n",
    "Okrem standardnych klasifikatorov sme natrenovali aj neuronovu siet na nas problem. Siet dosiahla najlepsie vysledky s pomedzi vsetkych klasifikatorov a nachadza sa v dalsom notebooku."
   ]
  }
 ],
 "metadata": {
  "kernelspec": {
   "display_name": "Python 3",
   "language": "python",
   "name": "python3"
  },
  "language_info": {
   "codemirror_mode": {
    "name": "ipython",
    "version": 3
   },
   "file_extension": ".py",
   "mimetype": "text/x-python",
   "name": "python",
   "nbconvert_exporter": "python",
   "pygments_lexer": "ipython3",
   "version": "3.5.2"
  }
 },
 "nbformat": 4,
 "nbformat_minor": 2
}
